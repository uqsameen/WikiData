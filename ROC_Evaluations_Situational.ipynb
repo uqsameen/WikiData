{
  "cells": [
    {
      "cell_type": "code",
      "execution_count": null,
      "metadata": {
        "id": "MN4-0nnK5BrY"
      },
      "outputs": [],
      "source": [
        "import warnings\n",
        "warnings.filterwarnings('ignore')"
      ]
    },
    {
      "cell_type": "code",
      "execution_count": null,
      "metadata": {
        "id": "hwpB9oc25BrZ"
      },
      "outputs": [],
      "source": [
        "import re\n",
        "import gc\n",
        "import os\n",
        "import pickle\n",
        "import numpy as np\n",
        "import pandas as pd\n",
        "import seaborn as sns\n",
        "import matplotlib.pyplot as plt\n",
        "\n",
        "from tqdm import tqdm\n",
        "\n",
        "from sklearn.model_selection import train_test_split\n",
        "from sklearn.metrics import accuracy_score, precision_score, recall_score\n",
        "from sklearn.metrics import f1_score, classification_report, confusion_matrix"
      ]
    },
    {
      "cell_type": "code",
      "execution_count": null,
      "metadata": {
        "id": "BURem81A5BrZ"
      },
      "outputs": [],
      "source": [
        "#Write a method to measure termwise FNRs and FPRs along with the difference with Overall FNR and FPR\n",
        "wordslists = ['Jew', 'Muslim', 'Christian', 'Asian', 'Black', 'White', 'Female', 'Male', 'Heterosexual', 'Homosexual_gay_or_lesbian']\n",
        "scoresBeforeROC = {}\n",
        "scoresAfterROC = {}"
      ]
    },
    {
      "cell_type": "code",
      "execution_count": null,
      "metadata": {
        "id": "iCpZxfmK5Bra"
      },
      "outputs": [],
      "source": [
        "def evaluations(df, theta):\n",
        "    val = '@'+str(theta)\n",
        "    df.Toxic = df.Toxic.astype('int')\n",
        "    df[val] = df[val].astype('int')\n",
        "    accuracy = accuracy_score( df.Toxic, df[val] )\n",
        "    precision = precision_score( df.Toxic, df[val] )\n",
        "    recall = recall_score( df.Toxic, df[val] )\n",
        "    f1 = f1_score( df.Toxic, df[val] )\n",
        "    cr = classification_report( df.Toxic, df[val] )\n",
        "    cm = confusion_matrix( df.Toxic, df[val] )\n",
        "\n",
        "    _tn, _fp, _fn, _tp = cm.ravel()\n",
        "\n",
        "    return accuracy, precision, recall, f1, cr, cm, _tn, _fp, _fn, _tp\n",
        "\n",
        "#FNRs, FPRs, Equalized Error Rates\n",
        "def EERs(df, theta, wordslists, scores, tnoverall, fpoverall, fnoverall, tpoverall):\n",
        "    val = '@'+str(theta)\n",
        "    fnrd, fprd = 0, 0\n",
        "    for i in wordslists:\n",
        "        temp = df[df[i] == 1][['Comment', 'Toxic', val, 'Maximum']]\n",
        "        if(len(temp) > 0):\n",
        "            cm = confusion_matrix( temp.Toxic, temp[val] )\n",
        "            fp, fn = cm.ravel()[1], cm.ravel()[2]\n",
        "            scores[i] = {}\n",
        "            scores[i]['fp'] = fp\n",
        "            scores[i]['fn'] = fn\n",
        "        fprd = fprd + (fpoverall - fp)\n",
        "        fnrd = fnrd + (fnoverall - fn)\n",
        "    pbr = (fpoverall - fnoverall) / (tnoverall + fpoverall + fnoverall + tpoverall)\n",
        "    return scores, fnrd, fprd, pbr\n",
        "\n",
        "\n",
        "def Overall_Discrimination(df, theta):\n",
        "    val = '@'+str(theta)\n",
        "    val1 = len(df[(df[val]==0) & (df['Sum']==1)]) / len(df[df['Sum']==1])\n",
        "    val2 = len(df[(df[val]==0) & (df['Sum']==0)]) / len(df[df['Sum']==0])\n",
        "    discrimination = val1 - val2\n",
        "#     print(term, theta, val1, val2, discrimination)\n",
        "    return discrimination"
      ]
    },
    {
      "cell_type": "code",
      "execution_count": 1,
      "metadata": {
        "id": "2eTQ6qnq5Bra",
        "outputId": "d090b3e7-5628-4764-af22-cc2db0a8a4af",
        "colab": {
          "base_uri": "https://localhost:8080/",
          "height": 211
        }
      },
      "outputs": [
        {
          "output_type": "error",
          "ename": "NameError",
          "evalue": "name 'os' is not defined",
          "traceback": [
            "\u001b[0;31m---------------------------------------------------------------------------\u001b[0m",
            "\u001b[0;31mNameError\u001b[0m                                 Traceback (most recent call last)",
            "\u001b[0;32m<ipython-input-1-308cd72946ba>\u001b[0m in \u001b[0;36m<cell line: 0>\u001b[0;34m()\u001b[0m\n\u001b[1;32m      1\u001b[0m \u001b[0msr_models\u001b[0m \u001b[0;34m=\u001b[0m \u001b[0;34m[\u001b[0m\u001b[0;34m]\u001b[0m\u001b[0;34m\u001b[0m\u001b[0;34m\u001b[0m\u001b[0m\n\u001b[0;32m----> 2\u001b[0;31m \u001b[0;32mfor\u001b[0m \u001b[0mi\u001b[0m \u001b[0;32min\u001b[0m \u001b[0mos\u001b[0m\u001b[0;34m.\u001b[0m\u001b[0mlistdir\u001b[0m\u001b[0;34m(\u001b[0m\u001b[0;34m'SR_Results/'\u001b[0m\u001b[0;34m)\u001b[0m\u001b[0;34m:\u001b[0m\u001b[0;34m\u001b[0m\u001b[0;34m\u001b[0m\u001b[0m\n\u001b[0m\u001b[1;32m      3\u001b[0m     \u001b[0;32mif\u001b[0m\u001b[0;34m(\u001b[0m\u001b[0;34m(\u001b[0m\u001b[0mi\u001b[0m\u001b[0;34m[\u001b[0m\u001b[0;34m-\u001b[0m\u001b[0mlen\u001b[0m\u001b[0;34m(\u001b[0m\u001b[0;34m'_biased_synthetic_predictions.csv'\u001b[0m\u001b[0;34m)\u001b[0m\u001b[0;34m:\u001b[0m\u001b[0;34m]\u001b[0m \u001b[0;34m==\u001b[0m \u001b[0;34m'_biased_synthetic_predictions.csv'\u001b[0m\u001b[0;34m)\u001b[0m\u001b[0;34m)\u001b[0m\u001b[0;34m:\u001b[0m\u001b[0;34m\u001b[0m\u001b[0;34m\u001b[0m\u001b[0m\n\u001b[1;32m      4\u001b[0m         \u001b[0msr_models\u001b[0m\u001b[0;34m.\u001b[0m\u001b[0mappend\u001b[0m\u001b[0;34m(\u001b[0m\u001b[0mi\u001b[0m\u001b[0;34m)\u001b[0m\u001b[0;34m\u001b[0m\u001b[0;34m\u001b[0m\u001b[0m\n\u001b[1;32m      5\u001b[0m \u001b[0;34m\u001b[0m\u001b[0m\n",
            "\u001b[0;31mNameError\u001b[0m: name 'os' is not defined"
          ]
        }
      ],
      "source": [
        "sr_models = []\n",
        "for i in os.listdir('SR_Results/'):\n",
        "    if((i[-len('_biased_synthetic_predictions.csv'):] == '_biased_synthetic_predictions.csv')):\n",
        "        sr_models.append(i)\n",
        "\n",
        "sr_models"
      ]
    },
    {
      "cell_type": "code",
      "execution_count": null,
      "metadata": {
        "id": "0fCmGS235Brb"
      },
      "outputs": [],
      "source": [
        "for filename in sr_models:\n",
        "    df = pd.read_csv(r'SR_Results\\\\' + filename)\n",
        "    df['@0.5'] = ( df['@0.5'] >= 0.5 ).astype( 'int32' )\n",
        "    df.head()\n",
        "\n",
        "    results = pd.DataFrame(columns=['Model', 'Data', 'FP', 'FN', 'TP', 'TN', 'Accuracy', 'Precision', 'Recall', 'F1', 'FPRD', 'FNRD', 'Discrimination'])\n",
        "    results['Theta'] = [0.5, 0.55, 0.6, 0.65, 0.7, 0.75, 0.8, 0.85, 0.9, 0.95]\n",
        "    # results['Theta'] = [0.5]\n",
        "\n",
        "    # Debiased Dataset Results\n",
        "    accuracy, precision, recall, f1, cr, cm, _tnAfter, _fpAfter, _fnAfter, _tpAfter = evaluations(df, 0.5)\n",
        "    scoresAfter, fnrdAfter, fprdAfter, pbrAfter = EERs(df, 0.5, wordslists, scoresAfterROC, tnoverall=_tnAfter, fpoverall=_fpAfter, fnoverall=_fnAfter, tpoverall=_tpAfter)\n",
        "    results['Model'].iloc[0] = 'SR_'+filename\n",
        "    results['Theta'].iloc[0] = 'N/A'\n",
        "    results['Data'].iloc[0] = 'Biased'\n",
        "    results['FP'].iloc[0] = _fpAfter\n",
        "    results['FN'].iloc[0] = _fnAfter\n",
        "    results['TP'].iloc[0] = _tpAfter\n",
        "    results['TN'].iloc[0] = _tnAfter\n",
        "    results['Accuracy'].iloc[0] = accuracy\n",
        "    results['Precision'].iloc[0] = precision\n",
        "    results['Recall'].iloc[0] = recall\n",
        "    results['F1'].iloc[0] = f1\n",
        "    results['FPRD'].iloc[0] = fprdAfter\n",
        "    results['FNRD'].iloc[0] = fnrdAfter\n",
        "    results['FNRD'].iloc[0] = fnrdAfter\n",
        "    results['Discrimination'].iloc[0] = Overall_Discrimination(df, 0.5)\n",
        "\n",
        "\n",
        "    # ROC Applied Biased Dataset Results with Every Theta\n",
        "    for i in list(results.index)[1:]:\n",
        "        accuracy, precision, recall, f1, cr, cm, _tnAfter, _fpAfter, _fnAfter, _tpAfter = evaluations(df, results.loc[i, 'Theta'])\n",
        "        scoresAfter, fnrdAfter, fprdAfter, pbrAfter = EERs(df, results.loc[i, 'Theta'], wordslists, scoresAfterROC, tnoverall=_tnAfter, fpoverall=_fpAfter, fnoverall=_fnAfter, tpoverall=_tpAfter)\n",
        "        results['Model'].iloc[i] = 'SR_'+filename\n",
        "        results['Data'].iloc[i] = 'Biased'\n",
        "        results['FP'].iloc[i] = _fpAfter\n",
        "        results['FN'].iloc[i] = _fnAfter\n",
        "        results['TP'].iloc[i] = _tpAfter\n",
        "        results['TN'].iloc[i] = _tnAfter\n",
        "        results['Accuracy'].iloc[i] = accuracy\n",
        "        results['Precision'].iloc[i] = precision\n",
        "        results['Recall'].iloc[i] = recall\n",
        "        results['F1'].iloc[i] = f1\n",
        "        results['FPRD'].iloc[i] = fprdAfter\n",
        "        results['FNRD'].iloc[i] = fnrdAfter\n",
        "        results['Discrimination'].iloc[i] = Overall_Discrimination(df, results.loc[i, 'Theta'])\n",
        "\n",
        "    # results.index = results.Theta\n",
        "    # results.drop(columns='Theta', inplace=True)\n",
        "\n",
        "\n",
        "    results.to_csv(r'SR_Results\\SR_ROC_Results\\\\SR_D_' + filename[:-len('_biased_synthetic_predictions.csv')] + '.csv', index=False)"
      ]
    },
    {
      "cell_type": "code",
      "execution_count": null,
      "metadata": {
        "id": "vssxeoP85Brb"
      },
      "outputs": [],
      "source": []
    }
  ],
  "metadata": {
    "kernelspec": {
      "display_name": "Python 3",
      "language": "python",
      "name": "python3"
    },
    "language_info": {
      "codemirror_mode": {
        "name": "ipython",
        "version": 3
      },
      "file_extension": ".py",
      "mimetype": "text/x-python",
      "name": "python",
      "nbconvert_exporter": "python",
      "pygments_lexer": "ipython3",
      "version": "3.6.5"
    },
    "colab": {
      "provenance": []
    }
  },
  "nbformat": 4,
  "nbformat_minor": 0
}